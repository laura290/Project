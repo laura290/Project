{
 "cells": [
  {
   "cell_type": "code",
   "execution_count": 29,
   "metadata": {},
   "outputs": [],
   "source": [
    "import pandas as pd\n",
    "import matplotlib.pyplot as plt\n",
    "%matplotlib inline\n",
    "import matplotlib.pyplot as plotter\n",
    "import numpy as np\n",
    "import seaborn as sns\n",
    "import src.operations as op\n",
    "df_5= pd.read_csv('datos limpios')"
   ]
  },
  {
   "cell_type": "code",
   "execution_count": 9,
   "metadata": {},
   "outputs": [
    {
     "data": {
      "text/html": [
       "<div>\n",
       "<style scoped>\n",
       "    .dataframe tbody tr th:only-of-type {\n",
       "        vertical-align: middle;\n",
       "    }\n",
       "\n",
       "    .dataframe tbody tr th {\n",
       "        vertical-align: top;\n",
       "    }\n",
       "\n",
       "    .dataframe thead th {\n",
       "        text-align: right;\n",
       "    }\n",
       "</style>\n",
       "<table border=\"1\" class=\"dataframe\">\n",
       "  <thead>\n",
       "    <tr style=\"text-align: right;\">\n",
       "      <th></th>\n",
       "      <th>Unnamed: 0</th>\n",
       "      <th>Entity</th>\n",
       "      <th>Year</th>\n",
       "      <th>Total_Deaths</th>\n",
       "      <th>Indoor_Deaths</th>\n",
       "      <th>Outdoor_Deaths</th>\n",
       "      <th>Outdoor_ozone_Deaths</th>\n",
       "    </tr>\n",
       "  </thead>\n",
       "  <tbody>\n",
       "    <tr>\n",
       "      <th>0</th>\n",
       "      <td>0</td>\n",
       "      <td>Afghanistan</td>\n",
       "      <td>1990</td>\n",
       "      <td>299.48</td>\n",
       "      <td>250.36</td>\n",
       "      <td>46.45</td>\n",
       "      <td>5.62</td>\n",
       "    </tr>\n",
       "    <tr>\n",
       "      <th>1</th>\n",
       "      <td>1</td>\n",
       "      <td>Afghanistan</td>\n",
       "      <td>1991</td>\n",
       "      <td>291.28</td>\n",
       "      <td>242.58</td>\n",
       "      <td>46.03</td>\n",
       "      <td>5.60</td>\n",
       "    </tr>\n",
       "    <tr>\n",
       "      <th>2</th>\n",
       "      <td>2</td>\n",
       "      <td>Afghanistan</td>\n",
       "      <td>1992</td>\n",
       "      <td>278.96</td>\n",
       "      <td>232.04</td>\n",
       "      <td>44.24</td>\n",
       "      <td>5.61</td>\n",
       "    </tr>\n",
       "    <tr>\n",
       "      <th>3</th>\n",
       "      <td>3</td>\n",
       "      <td>Afghanistan</td>\n",
       "      <td>1993</td>\n",
       "      <td>278.79</td>\n",
       "      <td>231.65</td>\n",
       "      <td>44.44</td>\n",
       "      <td>5.66</td>\n",
       "    </tr>\n",
       "    <tr>\n",
       "      <th>4</th>\n",
       "      <td>4</td>\n",
       "      <td>Afghanistan</td>\n",
       "      <td>1994</td>\n",
       "      <td>287.16</td>\n",
       "      <td>238.84</td>\n",
       "      <td>45.59</td>\n",
       "      <td>5.72</td>\n",
       "    </tr>\n",
       "    <tr>\n",
       "      <th>...</th>\n",
       "      <td>...</td>\n",
       "      <td>...</td>\n",
       "      <td>...</td>\n",
       "      <td>...</td>\n",
       "      <td>...</td>\n",
       "      <td>...</td>\n",
       "      <td>...</td>\n",
       "    </tr>\n",
       "    <tr>\n",
       "      <th>6463</th>\n",
       "      <td>6463</td>\n",
       "      <td>Zimbabwe</td>\n",
       "      <td>2013</td>\n",
       "      <td>143.85</td>\n",
       "      <td>113.46</td>\n",
       "      <td>27.59</td>\n",
       "      <td>4.43</td>\n",
       "    </tr>\n",
       "    <tr>\n",
       "      <th>6464</th>\n",
       "      <td>6464</td>\n",
       "      <td>Zimbabwe</td>\n",
       "      <td>2014</td>\n",
       "      <td>138.20</td>\n",
       "      <td>108.70</td>\n",
       "      <td>26.76</td>\n",
       "      <td>4.30</td>\n",
       "    </tr>\n",
       "    <tr>\n",
       "      <th>6465</th>\n",
       "      <td>6465</td>\n",
       "      <td>Zimbabwe</td>\n",
       "      <td>2015</td>\n",
       "      <td>132.75</td>\n",
       "      <td>104.34</td>\n",
       "      <td>25.72</td>\n",
       "      <td>4.20</td>\n",
       "    </tr>\n",
       "    <tr>\n",
       "      <th>6466</th>\n",
       "      <td>6466</td>\n",
       "      <td>Zimbabwe</td>\n",
       "      <td>2016</td>\n",
       "      <td>128.69</td>\n",
       "      <td>100.39</td>\n",
       "      <td>25.64</td>\n",
       "      <td>4.12</td>\n",
       "    </tr>\n",
       "    <tr>\n",
       "      <th>6467</th>\n",
       "      <td>6467</td>\n",
       "      <td>Zimbabwe</td>\n",
       "      <td>2017</td>\n",
       "      <td>125.03</td>\n",
       "      <td>96.24</td>\n",
       "      <td>26.17</td>\n",
       "      <td>4.05</td>\n",
       "    </tr>\n",
       "  </tbody>\n",
       "</table>\n",
       "<p>6468 rows × 7 columns</p>\n",
       "</div>"
      ],
      "text/plain": [
       "      Unnamed: 0       Entity  Year  Total_Deaths  Indoor_Deaths  \\\n",
       "0              0  Afghanistan  1990        299.48         250.36   \n",
       "1              1  Afghanistan  1991        291.28         242.58   \n",
       "2              2  Afghanistan  1992        278.96         232.04   \n",
       "3              3  Afghanistan  1993        278.79         231.65   \n",
       "4              4  Afghanistan  1994        287.16         238.84   \n",
       "...          ...          ...   ...           ...            ...   \n",
       "6463        6463     Zimbabwe  2013        143.85         113.46   \n",
       "6464        6464     Zimbabwe  2014        138.20         108.70   \n",
       "6465        6465     Zimbabwe  2015        132.75         104.34   \n",
       "6466        6466     Zimbabwe  2016        128.69         100.39   \n",
       "6467        6467     Zimbabwe  2017        125.03          96.24   \n",
       "\n",
       "      Outdoor_Deaths  Outdoor_ozone_Deaths  \n",
       "0              46.45                  5.62  \n",
       "1              46.03                  5.60  \n",
       "2              44.24                  5.61  \n",
       "3              44.44                  5.66  \n",
       "4              45.59                  5.72  \n",
       "...              ...                   ...  \n",
       "6463           27.59                  4.43  \n",
       "6464           26.76                  4.30  \n",
       "6465           25.72                  4.20  \n",
       "6466           25.64                  4.12  \n",
       "6467           26.17                  4.05  \n",
       "\n",
       "[6468 rows x 7 columns]"
      ]
     },
     "execution_count": 9,
     "metadata": {},
     "output_type": "execute_result"
    }
   ],
   "source": [
    "df_5"
   ]
  },
  {
   "cell_type": "raw",
   "metadata": {},
   "source": []
  },
  {
   "cell_type": "code",
   "execution_count": null,
   "metadata": {},
   "outputs": [],
   "source": [
    "df_5[\"Year\"].value_counts()"
   ]
  },
  {
   "cell_type": "markdown",
   "metadata": {},
   "source": [
    "En la tabla anterior se puede observar la evolución de muertos,debido a la contaminación en el aire en los distintos paises en función de los años,tanto en el interior como en el exterior.\n",
    "En esta tabla también se puede observar la evolución de las muertes en exterior,debido al contaminante ozono,a priori observando una baja proporción en comparación con las muertes totales."
   ]
  },
  {
   "cell_type": "code",
   "execution_count": 10,
   "metadata": {},
   "outputs": [
    {
     "name": "stdout",
     "output_type": "stream",
     "text": [
      "bin cuts [1989, 1999, 2009, 2019]\n",
      "labels [1989, 1999, 2009]\n"
     ]
    }
   ],
   "source": [
    "bins = [1989,1999,2009,2019]\n",
    "labels = list(range(1989,2019,10))\n",
    "print(\"bin cuts\",bins)\n",
    "print(\"labels\",labels)\n",
    "df_5[\"Decade\"] = pd.cut(df_5.Year,\n",
    "                            bins=bins, \n",
    "                           labels=labels)"
   ]
  },
  {
   "cell_type": "code",
   "execution_count": 11,
   "metadata": {},
   "outputs": [
    {
     "data": {
      "text/html": [
       "<div>\n",
       "<style scoped>\n",
       "    .dataframe tbody tr th:only-of-type {\n",
       "        vertical-align: middle;\n",
       "    }\n",
       "\n",
       "    .dataframe tbody tr th {\n",
       "        vertical-align: top;\n",
       "    }\n",
       "\n",
       "    .dataframe thead th {\n",
       "        text-align: right;\n",
       "    }\n",
       "</style>\n",
       "<table border=\"1\" class=\"dataframe\">\n",
       "  <thead>\n",
       "    <tr style=\"text-align: right;\">\n",
       "      <th></th>\n",
       "      <th>Entity</th>\n",
       "      <th>Decade</th>\n",
       "      <th>Total_Deaths</th>\n",
       "      <th>Indoor_Deaths</th>\n",
       "      <th>Outdoor_Deaths</th>\n",
       "      <th>Outdoor_ozone_Deaths</th>\n",
       "    </tr>\n",
       "  </thead>\n",
       "  <tbody>\n",
       "    <tr>\n",
       "      <th>0</th>\n",
       "      <td>Afghanistan</td>\n",
       "      <td>1989</td>\n",
       "      <td>299.48</td>\n",
       "      <td>250.36</td>\n",
       "      <td>46.45</td>\n",
       "      <td>5.62</td>\n",
       "    </tr>\n",
       "    <tr>\n",
       "      <th>1</th>\n",
       "      <td>Afghanistan</td>\n",
       "      <td>1989</td>\n",
       "      <td>291.28</td>\n",
       "      <td>242.58</td>\n",
       "      <td>46.03</td>\n",
       "      <td>5.60</td>\n",
       "    </tr>\n",
       "    <tr>\n",
       "      <th>2</th>\n",
       "      <td>Afghanistan</td>\n",
       "      <td>1989</td>\n",
       "      <td>278.96</td>\n",
       "      <td>232.04</td>\n",
       "      <td>44.24</td>\n",
       "      <td>5.61</td>\n",
       "    </tr>\n",
       "    <tr>\n",
       "      <th>3</th>\n",
       "      <td>Afghanistan</td>\n",
       "      <td>1989</td>\n",
       "      <td>278.79</td>\n",
       "      <td>231.65</td>\n",
       "      <td>44.44</td>\n",
       "      <td>5.66</td>\n",
       "    </tr>\n",
       "    <tr>\n",
       "      <th>4</th>\n",
       "      <td>Afghanistan</td>\n",
       "      <td>1989</td>\n",
       "      <td>287.16</td>\n",
       "      <td>238.84</td>\n",
       "      <td>45.59</td>\n",
       "      <td>5.72</td>\n",
       "    </tr>\n",
       "    <tr>\n",
       "      <th>...</th>\n",
       "      <td>...</td>\n",
       "      <td>...</td>\n",
       "      <td>...</td>\n",
       "      <td>...</td>\n",
       "      <td>...</td>\n",
       "      <td>...</td>\n",
       "    </tr>\n",
       "    <tr>\n",
       "      <th>6463</th>\n",
       "      <td>Zimbabwe</td>\n",
       "      <td>2009</td>\n",
       "      <td>143.85</td>\n",
       "      <td>113.46</td>\n",
       "      <td>27.59</td>\n",
       "      <td>4.43</td>\n",
       "    </tr>\n",
       "    <tr>\n",
       "      <th>6464</th>\n",
       "      <td>Zimbabwe</td>\n",
       "      <td>2009</td>\n",
       "      <td>138.20</td>\n",
       "      <td>108.70</td>\n",
       "      <td>26.76</td>\n",
       "      <td>4.30</td>\n",
       "    </tr>\n",
       "    <tr>\n",
       "      <th>6465</th>\n",
       "      <td>Zimbabwe</td>\n",
       "      <td>2009</td>\n",
       "      <td>132.75</td>\n",
       "      <td>104.34</td>\n",
       "      <td>25.72</td>\n",
       "      <td>4.20</td>\n",
       "    </tr>\n",
       "    <tr>\n",
       "      <th>6466</th>\n",
       "      <td>Zimbabwe</td>\n",
       "      <td>2009</td>\n",
       "      <td>128.69</td>\n",
       "      <td>100.39</td>\n",
       "      <td>25.64</td>\n",
       "      <td>4.12</td>\n",
       "    </tr>\n",
       "    <tr>\n",
       "      <th>6467</th>\n",
       "      <td>Zimbabwe</td>\n",
       "      <td>2009</td>\n",
       "      <td>125.03</td>\n",
       "      <td>96.24</td>\n",
       "      <td>26.17</td>\n",
       "      <td>4.05</td>\n",
       "    </tr>\n",
       "  </tbody>\n",
       "</table>\n",
       "<p>6468 rows × 6 columns</p>\n",
       "</div>"
      ],
      "text/plain": [
       "           Entity Decade  Total_Deaths  Indoor_Deaths  Outdoor_Deaths  \\\n",
       "0     Afghanistan   1989        299.48         250.36           46.45   \n",
       "1     Afghanistan   1989        291.28         242.58           46.03   \n",
       "2     Afghanistan   1989        278.96         232.04           44.24   \n",
       "3     Afghanistan   1989        278.79         231.65           44.44   \n",
       "4     Afghanistan   1989        287.16         238.84           45.59   \n",
       "...           ...    ...           ...            ...             ...   \n",
       "6463     Zimbabwe   2009        143.85         113.46           27.59   \n",
       "6464     Zimbabwe   2009        138.20         108.70           26.76   \n",
       "6465     Zimbabwe   2009        132.75         104.34           25.72   \n",
       "6466     Zimbabwe   2009        128.69         100.39           25.64   \n",
       "6467     Zimbabwe   2009        125.03          96.24           26.17   \n",
       "\n",
       "      Outdoor_ozone_Deaths  \n",
       "0                     5.62  \n",
       "1                     5.60  \n",
       "2                     5.61  \n",
       "3                     5.66  \n",
       "4                     5.72  \n",
       "...                    ...  \n",
       "6463                  4.43  \n",
       "6464                  4.30  \n",
       "6465                  4.20  \n",
       "6466                  4.12  \n",
       "6467                  4.05  \n",
       "\n",
       "[6468 rows x 6 columns]"
      ]
     },
     "execution_count": 11,
     "metadata": {},
     "output_type": "execute_result"
    }
   ],
   "source": [
    "df_6=df_5[[\"Entity\",\"Decade\",\"Total_Deaths\", \"Indoor_Deaths\",\"Outdoor_Deaths\",\"Outdoor_ozone_Deaths\"]]\n",
    "df_6"
   ]
  },
  {
   "cell_type": "code",
   "execution_count": 30,
   "metadata": {},
   "outputs": [
    {
     "name": "stderr",
     "output_type": "stream",
     "text": [
      "<ipython-input-30-fb585866cbb8>:1: SettingWithCopyWarning: \n",
      "A value is trying to be set on a copy of a slice from a DataFrame.\n",
      "Try using .loc[row_indexer,col_indexer] = value instead\n",
      "\n",
      "See the caveats in the documentation: https://pandas.pydata.org/pandas-docs/stable/user_guide/indexing.html#returning-a-view-versus-a-copy\n",
      "  df_6['Outdoor_contaminants_Deaths'] = df_6.apply(lambda x: x['Outdoor_Deaths'] - x['Outdoor_ozone_Deaths'], axis=1)\n"
     ]
    },
    {
     "data": {
      "text/html": [
       "<div>\n",
       "<style scoped>\n",
       "    .dataframe tbody tr th:only-of-type {\n",
       "        vertical-align: middle;\n",
       "    }\n",
       "\n",
       "    .dataframe tbody tr th {\n",
       "        vertical-align: top;\n",
       "    }\n",
       "\n",
       "    .dataframe thead th {\n",
       "        text-align: right;\n",
       "    }\n",
       "</style>\n",
       "<table border=\"1\" class=\"dataframe\">\n",
       "  <thead>\n",
       "    <tr style=\"text-align: right;\">\n",
       "      <th></th>\n",
       "      <th>Entity</th>\n",
       "      <th>Decade</th>\n",
       "      <th>Total_Deaths</th>\n",
       "      <th>Indoor_Deaths</th>\n",
       "      <th>Outdoor_Deaths</th>\n",
       "      <th>Outdoor_ozone_Deaths</th>\n",
       "      <th>Outdoor_contaminants_Deaths</th>\n",
       "    </tr>\n",
       "  </thead>\n",
       "  <tbody>\n",
       "    <tr>\n",
       "      <th>0</th>\n",
       "      <td>Afghanistan</td>\n",
       "      <td>1989</td>\n",
       "      <td>299.48</td>\n",
       "      <td>250.36</td>\n",
       "      <td>46.45</td>\n",
       "      <td>5.62</td>\n",
       "      <td>40.83</td>\n",
       "    </tr>\n",
       "    <tr>\n",
       "      <th>1</th>\n",
       "      <td>Afghanistan</td>\n",
       "      <td>1989</td>\n",
       "      <td>291.28</td>\n",
       "      <td>242.58</td>\n",
       "      <td>46.03</td>\n",
       "      <td>5.60</td>\n",
       "      <td>40.43</td>\n",
       "    </tr>\n",
       "    <tr>\n",
       "      <th>2</th>\n",
       "      <td>Afghanistan</td>\n",
       "      <td>1989</td>\n",
       "      <td>278.96</td>\n",
       "      <td>232.04</td>\n",
       "      <td>44.24</td>\n",
       "      <td>5.61</td>\n",
       "      <td>38.63</td>\n",
       "    </tr>\n",
       "    <tr>\n",
       "      <th>3</th>\n",
       "      <td>Afghanistan</td>\n",
       "      <td>1989</td>\n",
       "      <td>278.79</td>\n",
       "      <td>231.65</td>\n",
       "      <td>44.44</td>\n",
       "      <td>5.66</td>\n",
       "      <td>38.78</td>\n",
       "    </tr>\n",
       "    <tr>\n",
       "      <th>4</th>\n",
       "      <td>Afghanistan</td>\n",
       "      <td>1989</td>\n",
       "      <td>287.16</td>\n",
       "      <td>238.84</td>\n",
       "      <td>45.59</td>\n",
       "      <td>5.72</td>\n",
       "      <td>39.87</td>\n",
       "    </tr>\n",
       "    <tr>\n",
       "      <th>...</th>\n",
       "      <td>...</td>\n",
       "      <td>...</td>\n",
       "      <td>...</td>\n",
       "      <td>...</td>\n",
       "      <td>...</td>\n",
       "      <td>...</td>\n",
       "      <td>...</td>\n",
       "    </tr>\n",
       "    <tr>\n",
       "      <th>6463</th>\n",
       "      <td>Zimbabwe</td>\n",
       "      <td>2009</td>\n",
       "      <td>143.85</td>\n",
       "      <td>113.46</td>\n",
       "      <td>27.59</td>\n",
       "      <td>4.43</td>\n",
       "      <td>23.16</td>\n",
       "    </tr>\n",
       "    <tr>\n",
       "      <th>6464</th>\n",
       "      <td>Zimbabwe</td>\n",
       "      <td>2009</td>\n",
       "      <td>138.20</td>\n",
       "      <td>108.70</td>\n",
       "      <td>26.76</td>\n",
       "      <td>4.30</td>\n",
       "      <td>22.46</td>\n",
       "    </tr>\n",
       "    <tr>\n",
       "      <th>6465</th>\n",
       "      <td>Zimbabwe</td>\n",
       "      <td>2009</td>\n",
       "      <td>132.75</td>\n",
       "      <td>104.34</td>\n",
       "      <td>25.72</td>\n",
       "      <td>4.20</td>\n",
       "      <td>21.52</td>\n",
       "    </tr>\n",
       "    <tr>\n",
       "      <th>6466</th>\n",
       "      <td>Zimbabwe</td>\n",
       "      <td>2009</td>\n",
       "      <td>128.69</td>\n",
       "      <td>100.39</td>\n",
       "      <td>25.64</td>\n",
       "      <td>4.12</td>\n",
       "      <td>21.52</td>\n",
       "    </tr>\n",
       "    <tr>\n",
       "      <th>6467</th>\n",
       "      <td>Zimbabwe</td>\n",
       "      <td>2009</td>\n",
       "      <td>125.03</td>\n",
       "      <td>96.24</td>\n",
       "      <td>26.17</td>\n",
       "      <td>4.05</td>\n",
       "      <td>22.12</td>\n",
       "    </tr>\n",
       "  </tbody>\n",
       "</table>\n",
       "<p>6468 rows × 7 columns</p>\n",
       "</div>"
      ],
      "text/plain": [
       "           Entity Decade  Total_Deaths  Indoor_Deaths  Outdoor_Deaths  \\\n",
       "0     Afghanistan   1989        299.48         250.36           46.45   \n",
       "1     Afghanistan   1989        291.28         242.58           46.03   \n",
       "2     Afghanistan   1989        278.96         232.04           44.24   \n",
       "3     Afghanistan   1989        278.79         231.65           44.44   \n",
       "4     Afghanistan   1989        287.16         238.84           45.59   \n",
       "...           ...    ...           ...            ...             ...   \n",
       "6463     Zimbabwe   2009        143.85         113.46           27.59   \n",
       "6464     Zimbabwe   2009        138.20         108.70           26.76   \n",
       "6465     Zimbabwe   2009        132.75         104.34           25.72   \n",
       "6466     Zimbabwe   2009        128.69         100.39           25.64   \n",
       "6467     Zimbabwe   2009        125.03          96.24           26.17   \n",
       "\n",
       "      Outdoor_ozone_Deaths  Outdoor_contaminants_Deaths  \n",
       "0                     5.62                        40.83  \n",
       "1                     5.60                        40.43  \n",
       "2                     5.61                        38.63  \n",
       "3                     5.66                        38.78  \n",
       "4                     5.72                        39.87  \n",
       "...                    ...                          ...  \n",
       "6463                  4.43                        23.16  \n",
       "6464                  4.30                        22.46  \n",
       "6465                  4.20                        21.52  \n",
       "6466                  4.12                        21.52  \n",
       "6467                  4.05                        22.12  \n",
       "\n",
       "[6468 rows x 7 columns]"
      ]
     },
     "execution_count": 30,
     "metadata": {},
     "output_type": "execute_result"
    }
   ],
   "source": [
    "df_6['Outdoor_contaminants_Deaths'] = df_6.apply(lambda x: x['Outdoor_Deaths'] - x['Outdoor_ozone_Deaths'], axis=1)\n",
    "df_6"
   ]
  },
  {
   "cell_type": "code",
   "execution_count": 21,
   "metadata": {
    "scrolled": true
   },
   "outputs": [
    {
     "data": {
      "text/html": [
       "<div>\n",
       "<style scoped>\n",
       "    .dataframe tbody tr th:only-of-type {\n",
       "        vertical-align: middle;\n",
       "    }\n",
       "\n",
       "    .dataframe tbody tr th {\n",
       "        vertical-align: top;\n",
       "    }\n",
       "\n",
       "    .dataframe thead th {\n",
       "        text-align: right;\n",
       "    }\n",
       "</style>\n",
       "<table border=\"1\" class=\"dataframe\">\n",
       "  <thead>\n",
       "    <tr style=\"text-align: right;\">\n",
       "      <th></th>\n",
       "      <th></th>\n",
       "      <th>Total_Deaths</th>\n",
       "    </tr>\n",
       "    <tr>\n",
       "      <th>Entity</th>\n",
       "      <th>Decade</th>\n",
       "      <th></th>\n",
       "    </tr>\n",
       "  </thead>\n",
       "  <tbody>\n",
       "    <tr>\n",
       "      <th rowspan=\"3\" valign=\"top\">Afghanistan</th>\n",
       "      <th>1989</th>\n",
       "      <td>2869.68</td>\n",
       "    </tr>\n",
       "    <tr>\n",
       "      <th>1999</th>\n",
       "      <td>2607.92</td>\n",
       "    </tr>\n",
       "    <tr>\n",
       "      <th>2009</th>\n",
       "      <td>1602.01</td>\n",
       "    </tr>\n",
       "    <tr>\n",
       "      <th rowspan=\"2\" valign=\"top\">Albania</th>\n",
       "      <th>1989</th>\n",
       "      <td>753.73</td>\n",
       "    </tr>\n",
       "    <tr>\n",
       "      <th>1999</th>\n",
       "      <td>562.12</td>\n",
       "    </tr>\n",
       "    <tr>\n",
       "      <th>...</th>\n",
       "      <th>...</th>\n",
       "      <td>...</td>\n",
       "    </tr>\n",
       "    <tr>\n",
       "      <th rowspan=\"2\" valign=\"top\">Zambia</th>\n",
       "      <th>1999</th>\n",
       "      <td>1362.75</td>\n",
       "    </tr>\n",
       "    <tr>\n",
       "      <th>2009</th>\n",
       "      <td>849.61</td>\n",
       "    </tr>\n",
       "    <tr>\n",
       "      <th rowspan=\"3\" valign=\"top\">Zimbabwe</th>\n",
       "      <th>1989</th>\n",
       "      <td>1072.82</td>\n",
       "    </tr>\n",
       "    <tr>\n",
       "      <th>1999</th>\n",
       "      <td>1595.45</td>\n",
       "    </tr>\n",
       "    <tr>\n",
       "      <th>2009</th>\n",
       "      <td>1142.50</td>\n",
       "    </tr>\n",
       "  </tbody>\n",
       "</table>\n",
       "<p>693 rows × 1 columns</p>\n",
       "</div>"
      ],
      "text/plain": [
       "                    Total_Deaths\n",
       "Entity      Decade              \n",
       "Afghanistan 1989         2869.68\n",
       "            1999         2607.92\n",
       "            2009         1602.01\n",
       "Albania     1989          753.73\n",
       "            1999          562.12\n",
       "...                          ...\n",
       "Zambia      1999         1362.75\n",
       "            2009          849.61\n",
       "Zimbabwe    1989         1072.82\n",
       "            1999         1595.45\n",
       "            2009         1142.50\n",
       "\n",
       "[693 rows x 1 columns]"
      ]
     },
     "execution_count": 21,
     "metadata": {},
     "output_type": "execute_result"
    }
   ],
   "source": [
    "df_7= df_6.groupby([\"Entity\",\"Decade\"]).agg({\"Total_Deaths\":\"sum\"})\n",
    "df_7"
   ]
  },
  {
   "cell_type": "code",
   "execution_count": 22,
   "metadata": {},
   "outputs": [
    {
     "data": {
      "text/html": [
       "<div>\n",
       "<style scoped>\n",
       "    .dataframe tbody tr th:only-of-type {\n",
       "        vertical-align: middle;\n",
       "    }\n",
       "\n",
       "    .dataframe tbody tr th {\n",
       "        vertical-align: top;\n",
       "    }\n",
       "\n",
       "    .dataframe thead th {\n",
       "        text-align: right;\n",
       "    }\n",
       "</style>\n",
       "<table border=\"1\" class=\"dataframe\">\n",
       "  <thead>\n",
       "    <tr style=\"text-align: right;\">\n",
       "      <th></th>\n",
       "      <th>Entity</th>\n",
       "      <th>Decade</th>\n",
       "      <th>Total_Deaths</th>\n",
       "    </tr>\n",
       "  </thead>\n",
       "  <tbody>\n",
       "    <tr>\n",
       "      <th>0</th>\n",
       "      <td>Afghanistan</td>\n",
       "      <td>1989</td>\n",
       "      <td>2869.68</td>\n",
       "    </tr>\n",
       "    <tr>\n",
       "      <th>1</th>\n",
       "      <td>Afghanistan</td>\n",
       "      <td>1999</td>\n",
       "      <td>2607.92</td>\n",
       "    </tr>\n",
       "    <tr>\n",
       "      <th>2</th>\n",
       "      <td>Afghanistan</td>\n",
       "      <td>2009</td>\n",
       "      <td>1602.01</td>\n",
       "    </tr>\n",
       "    <tr>\n",
       "      <th>3</th>\n",
       "      <td>Albania</td>\n",
       "      <td>1989</td>\n",
       "      <td>753.73</td>\n",
       "    </tr>\n",
       "    <tr>\n",
       "      <th>4</th>\n",
       "      <td>Albania</td>\n",
       "      <td>1999</td>\n",
       "      <td>562.12</td>\n",
       "    </tr>\n",
       "    <tr>\n",
       "      <th>...</th>\n",
       "      <td>...</td>\n",
       "      <td>...</td>\n",
       "      <td>...</td>\n",
       "    </tr>\n",
       "    <tr>\n",
       "      <th>688</th>\n",
       "      <td>Zambia</td>\n",
       "      <td>1999</td>\n",
       "      <td>1362.75</td>\n",
       "    </tr>\n",
       "    <tr>\n",
       "      <th>689</th>\n",
       "      <td>Zambia</td>\n",
       "      <td>2009</td>\n",
       "      <td>849.61</td>\n",
       "    </tr>\n",
       "    <tr>\n",
       "      <th>690</th>\n",
       "      <td>Zimbabwe</td>\n",
       "      <td>1989</td>\n",
       "      <td>1072.82</td>\n",
       "    </tr>\n",
       "    <tr>\n",
       "      <th>691</th>\n",
       "      <td>Zimbabwe</td>\n",
       "      <td>1999</td>\n",
       "      <td>1595.45</td>\n",
       "    </tr>\n",
       "    <tr>\n",
       "      <th>692</th>\n",
       "      <td>Zimbabwe</td>\n",
       "      <td>2009</td>\n",
       "      <td>1142.50</td>\n",
       "    </tr>\n",
       "  </tbody>\n",
       "</table>\n",
       "<p>693 rows × 3 columns</p>\n",
       "</div>"
      ],
      "text/plain": [
       "          Entity Decade  Total_Deaths\n",
       "0    Afghanistan   1989       2869.68\n",
       "1    Afghanistan   1999       2607.92\n",
       "2    Afghanistan   2009       1602.01\n",
       "3        Albania   1989        753.73\n",
       "4        Albania   1999        562.12\n",
       "..           ...    ...           ...\n",
       "688       Zambia   1999       1362.75\n",
       "689       Zambia   2009        849.61\n",
       "690     Zimbabwe   1989       1072.82\n",
       "691     Zimbabwe   1999       1595.45\n",
       "692     Zimbabwe   2009       1142.50\n",
       "\n",
       "[693 rows x 3 columns]"
      ]
     },
     "execution_count": 22,
     "metadata": {},
     "output_type": "execute_result"
    }
   ],
   "source": [
    "df_8= df_6.groupby([\"Entity\",\"Decade\"]).agg({\"Total_Deaths\":\"sum\"}).reset_index()\n",
    "df_8"
   ]
  },
  {
   "cell_type": "code",
   "execution_count": 24,
   "metadata": {},
   "outputs": [],
   "source": [
    "#def entity_total(entity,year):\n",
    "    #data = df_8[(df_8[\"Entity\"]== f\"{entity}\") & (df_8[\"Decade\"]== year)]\n",
    "    #return data[\"Total_Deaths\"]"
   ]
  },
  {
   "cell_type": "code",
   "execution_count": 27,
   "metadata": {},
   "outputs": [
    {
     "data": {
      "text/plain": [
       "3    753.73\n",
       "Name: Total_Deaths, dtype: float64"
      ]
     },
     "execution_count": 27,
     "metadata": {},
     "output_type": "execute_result"
    }
   ],
   "source": [
    "#Entity_2 = \"Albania\"\n",
    "#Total_Deaths=entity_total(Entity_2,1989)\n",
    "#Total_Deaths"
   ]
  },
  {
   "cell_type": "code",
   "execution_count": 31,
   "metadata": {},
   "outputs": [
    {
     "ename": "AttributeError",
     "evalue": "module 'src.operations' has no attribute 'entity_total'",
     "output_type": "error",
     "traceback": [
      "\u001b[0;31m---------------------------------------------------------------------------\u001b[0m",
      "\u001b[0;31mAttributeError\u001b[0m                            Traceback (most recent call last)",
      "\u001b[0;32m<ipython-input-31-1f3863cf6d94>\u001b[0m in \u001b[0;36m<module>\u001b[0;34m\u001b[0m\n\u001b[0;32m----> 1\u001b[0;31m \u001b[0mop\u001b[0m\u001b[0;34m.\u001b[0m\u001b[0mentity_total\u001b[0m\u001b[0;34m(\u001b[0m\u001b[0mentity_2\u001b[0m\u001b[0;34m,\u001b[0m\u001b[0mDecade\u001b[0m\u001b[0;34m)\u001b[0m\u001b[0;34m\u001b[0m\u001b[0;34m\u001b[0m\u001b[0m\n\u001b[0m",
      "\u001b[0;31mAttributeError\u001b[0m: module 'src.operations' has no attribute 'entity_total'"
     ]
    }
   ],
   "source": [
    "op.entity_total(entity_2,Decade)"
   ]
  },
  {
   "cell_type": "markdown",
   "metadata": {},
   "source": [
    "Con la función anterior se puede buscar el número de muertos totales en cada país y cada decada."
   ]
  },
  {
   "cell_type": "code",
   "execution_count": 160,
   "metadata": {},
   "outputs": [
    {
     "name": "stderr",
     "output_type": "stream",
     "text": [
      "/usr/local/lib/python3.8/dist-packages/pandas/plotting/_matplotlib/core.py:1235: UserWarning: FixedFormatter should only be used together with FixedLocator\n",
      "  ax.set_xticklabels(xticklabels)\n"
     ]
    },
    {
     "data": {
      "image/png": "[encoded data removed]",
      "text/plain": [
       "<Figure size 1440x720 with 1 Axes>"
      ]
     },
     "metadata": {
      "needs_background": "light"
     },
     "output_type": "display_data"
    }
   ],
   "source": [
    "table = pd.pivot_table(df_8,index=['Entity','Decade'],aggfunc={'Total_Deaths':np.mean})\n",
    "table_1= table.head(9)\n",
    "table_1.plot(figsize=(20,10));"
   ]
  },
  {
   "cell_type": "markdown",
   "metadata": {},
   "source": [
    "En el grafico anterior se puede observar como evolucionan la totalidad de muertos en la ultimas decadas de debido a la contaminación en el aire,se ve una clara disminución en la última decada analizada,seguramente debido a los protocolos instaurados."
   ]
  },
  {
   "cell_type": "code",
   "execution_count": 156,
   "metadata": {},
   "outputs": [
    {
     "data": {
      "text/plain": [
       "Text(0, 0.5, 'Total de muertos')"
      ]
     },
     "execution_count": 156,
     "metadata": {},
     "output_type": "execute_result"
    },
    {
     "data": {
      "image/png": "[encoded data removed]",
      "text/plain": [
       "<Figure size 1440x720 with 1 Axes>"
      ]
     },
     "metadata": {
      "needs_background": "light"
     },
     "output_type": "display_data"
    }
   ],
   "source": [
    "a = df_7.sort_values(by=['Total_Deaths'], ascending=[False])\n",
    "b=a.head(9)\n",
    "b.plot.bar(figsize=(20,10));\n",
    "plt.title(\"Total de muertos vs País\")\n",
    "plt.xlabel(\"Paises\")\n",
    "plt.ylabel(\"Total de muertos\")"
   ]
  },
  {
   "cell_type": "markdown",
   "metadata": {},
   "source": [
    "Se puede observar,que en general en los paises mas subdesarrollados el número total de muertos es mucho mayor que en aquellos que estan más desarrollados."
   ]
  },
  {
   "cell_type": "markdown",
   "metadata": {},
   "source": [
    "A continuación una vez visto que influyen tanto la decada como el pais en el número de muertos,se va a analizar el numero total de muertos y donde fallecen mayor numero de estos,si en el interior o el exterior.Y si lo hacen en mayot proporción por ozono u otros contaminantes."
   ]
  },
  {
   "cell_type": "code",
   "execution_count": 130,
   "metadata": {},
   "outputs": [
    {
     "data": {
      "text/html": [
       "<div>\n",
       "<style scoped>\n",
       "    .dataframe tbody tr th:only-of-type {\n",
       "        vertical-align: middle;\n",
       "    }\n",
       "\n",
       "    .dataframe tbody tr th {\n",
       "        vertical-align: top;\n",
       "    }\n",
       "\n",
       "    .dataframe thead th {\n",
       "        text-align: right;\n",
       "    }\n",
       "</style>\n",
       "<table border=\"1\" class=\"dataframe\">\n",
       "  <thead>\n",
       "    <tr style=\"text-align: right;\">\n",
       "      <th></th>\n",
       "      <th>Total_Deaths</th>\n",
       "      <th>Indoor_Deaths</th>\n",
       "      <th>Outdoor_Deaths</th>\n",
       "      <th>Outdoor_ozone_Deaths</th>\n",
       "      <th>Outdoor_contaminants_Deaths</th>\n",
       "    </tr>\n",
       "    <tr>\n",
       "      <th>Entity</th>\n",
       "      <th></th>\n",
       "      <th></th>\n",
       "      <th></th>\n",
       "      <th></th>\n",
       "      <th></th>\n",
       "    </tr>\n",
       "  </thead>\n",
       "  <tbody>\n",
       "    <tr>\n",
       "      <th>Afghanistan</th>\n",
       "      <td>7079.61</td>\n",
       "      <td>5711.08</td>\n",
       "      <td>1287.42</td>\n",
       "      <td>162.32</td>\n",
       "      <td>1125.10</td>\n",
       "    </tr>\n",
       "    <tr>\n",
       "      <th>Albania</th>\n",
       "      <td>1660.16</td>\n",
       "      <td>984.04</td>\n",
       "      <td>624.94</td>\n",
       "      <td>72.82</td>\n",
       "      <td>552.12</td>\n",
       "    </tr>\n",
       "    <tr>\n",
       "      <th>Algeria</th>\n",
       "      <td>1503.05</td>\n",
       "      <td>42.10</td>\n",
       "      <td>1414.63</td>\n",
       "      <td>62.53</td>\n",
       "      <td>1352.10</td>\n",
       "    </tr>\n",
       "    <tr>\n",
       "      <th>American Samoa</th>\n",
       "      <td>1972.77</td>\n",
       "      <td>915.81</td>\n",
       "      <td>1056.86</td>\n",
       "      <td>0.16</td>\n",
       "      <td>1056.70</td>\n",
       "    </tr>\n",
       "    <tr>\n",
       "      <th>Andean Latin America</th>\n",
       "      <td>1514.55</td>\n",
       "      <td>782.07</td>\n",
       "      <td>712.94</td>\n",
       "      <td>27.39</td>\n",
       "      <td>685.55</td>\n",
       "    </tr>\n",
       "    <tr>\n",
       "      <th>...</th>\n",
       "      <td>...</td>\n",
       "      <td>...</td>\n",
       "      <td>...</td>\n",
       "      <td>...</td>\n",
       "      <td>...</td>\n",
       "    </tr>\n",
       "    <tr>\n",
       "      <th>Western Sub-Saharan Africa</th>\n",
       "      <td>3663.84</td>\n",
       "      <td>2800.72</td>\n",
       "      <td>829.83</td>\n",
       "      <td>60.52</td>\n",
       "      <td>769.31</td>\n",
       "    </tr>\n",
       "    <tr>\n",
       "      <th>World</th>\n",
       "      <td>2442.21</td>\n",
       "      <td>1109.11</td>\n",
       "      <td>1186.31</td>\n",
       "      <td>233.31</td>\n",
       "      <td>953.00</td>\n",
       "    </tr>\n",
       "    <tr>\n",
       "      <th>Yemen</th>\n",
       "      <td>3739.78</td>\n",
       "      <td>2446.84</td>\n",
       "      <td>1242.33</td>\n",
       "      <td>82.48</td>\n",
       "      <td>1159.85</td>\n",
       "    </tr>\n",
       "    <tr>\n",
       "      <th>Zambia</th>\n",
       "      <td>4040.67</td>\n",
       "      <td>3264.71</td>\n",
       "      <td>692.69</td>\n",
       "      <td>142.22</td>\n",
       "      <td>550.47</td>\n",
       "    </tr>\n",
       "    <tr>\n",
       "      <th>Zimbabwe</th>\n",
       "      <td>3810.77</td>\n",
       "      <td>2985.00</td>\n",
       "      <td>746.02</td>\n",
       "      <td>125.80</td>\n",
       "      <td>620.22</td>\n",
       "    </tr>\n",
       "  </tbody>\n",
       "</table>\n",
       "<p>231 rows × 5 columns</p>\n",
       "</div>"
      ],
      "text/plain": [
       "                            Total_Deaths  Indoor_Deaths  Outdoor_Deaths  \\\n",
       "Entity                                                                    \n",
       "Afghanistan                      7079.61        5711.08         1287.42   \n",
       "Albania                          1660.16         984.04          624.94   \n",
       "Algeria                          1503.05          42.10         1414.63   \n",
       "American Samoa                   1972.77         915.81         1056.86   \n",
       "Andean Latin America             1514.55         782.07          712.94   \n",
       "...                                  ...            ...             ...   \n",
       "Western Sub-Saharan Africa       3663.84        2800.72          829.83   \n",
       "World                            2442.21        1109.11         1186.31   \n",
       "Yemen                            3739.78        2446.84         1242.33   \n",
       "Zambia                           4040.67        3264.71          692.69   \n",
       "Zimbabwe                         3810.77        2985.00          746.02   \n",
       "\n",
       "                            Outdoor_ozone_Deaths  Outdoor_contaminants_Deaths  \n",
       "Entity                                                                         \n",
       "Afghanistan                               162.32                      1125.10  \n",
       "Albania                                    72.82                       552.12  \n",
       "Algeria                                    62.53                      1352.10  \n",
       "American Samoa                              0.16                      1056.70  \n",
       "Andean Latin America                       27.39                       685.55  \n",
       "...                                          ...                          ...  \n",
       "Western Sub-Saharan Africa                 60.52                       769.31  \n",
       "World                                     233.31                       953.00  \n",
       "Yemen                                      82.48                      1159.85  \n",
       "Zambia                                    142.22                       550.47  \n",
       "Zimbabwe                                  125.80                       620.22  \n",
       "\n",
       "[231 rows x 5 columns]"
      ]
     },
     "execution_count": 130,
     "metadata": {},
     "output_type": "execute_result"
    }
   ],
   "source": [
    "df_9= df_6.groupby([\"Entity\"]).agg({\"Total_Deaths\":\"sum\",\"Indoor_Deaths\":\"sum\",\"Outdoor_Deaths\":\"sum\",\"Outdoor_ozone_Deaths\":\"sum\",\"Outdoor_contaminants_Deaths\":\"sum\"})\n",
    "df_9.sort_values(by=['Total_Deaths'], ascending=[False])\n",
    "df_9"
   ]
  },
  {
   "cell_type": "code",
   "execution_count": 137,
   "metadata": {},
   "outputs": [
    {
     "data": {
      "text/plain": [
       "(Total_Deaths    567916.55\n",
       " dtype: float64,\n",
       " Indoor_Deaths    326514.01\n",
       " dtype: float64,\n",
       " Outdoor_Deaths    227123.52\n",
       " dtype: float64)"
      ]
     },
     "execution_count": 137,
     "metadata": {},
     "output_type": "execute_result"
    }
   ],
   "source": [
    "df_10= df_9[['Total_Deaths']].sum(),df_9[['Indoor_Deaths']].sum(),df_9[['Outdoor_Deaths']].sum()\n",
    "df_10"
   ]
  },
  {
   "cell_type": "code",
   "execution_count": 138,
   "metadata": {},
   "outputs": [
    {
     "data": {
      "image/png": "[encoded data removed]",
      "text/plain": [
       "<Figure size 432x288 with 1 Axes>"
      ]
     },
     "metadata": {},
     "output_type": "display_data"
    }
   ],
   "source": [
    "labels = 'Total_Deaths', 'Indoor_Deaths', 'Outdoor_Deaths'\n",
    "sizes = [567916, 326514,227123]\n",
    "explode = (0, 0.1, 0)\n",
    "fig1, ax1 = plt.subplots()\n",
    "ax1.pie(sizes, explode=explode, labels=labels, autopct='%1.1f%%',\n",
    "        shadow=True, startangle=90)\n",
    "ax1.axis('equal')\n",
    "plt.show()"
   ]
  },
  {
   "cell_type": "code",
   "execution_count": 139,
   "metadata": {},
   "outputs": [
    {
     "data": {
      "text/plain": [
       "<AxesSubplot:>"
      ]
     },
     "execution_count": 139,
     "metadata": {},
     "output_type": "execute_result"
    },
    {
     "data": {
      "image/png": "[encoded data removed]",
      "text/plain": [
       "<Figure size 432x288 with 2 Axes>"
      ]
     },
     "metadata": {
      "needs_background": "light"
     },
     "output_type": "display_data"
    }
   ],
   "source": [
    "corr = df_9.corr()\n",
    "sns.heatmap(corr, \n",
    "            xticklabels=corr.columns.values,\n",
    "            yticklabels=corr.columns.values)\n"
   ]
  },
  {
   "cell_type": "markdown",
   "metadata": {},
   "source": [
    "El heatmap verifica lo visto anteriormente,la relación que hay entre el numero total de muertos y los muertos en estancias interiores,en este caso el efecto de los contaminantes es mayor por ser una instancia cerrada.\n"
   ]
  },
  {
   "cell_type": "markdown",
   "metadata": {},
   "source": [
    "En el caso de la contaminación exterior puede estar producida por ozono o otros contaminantes no primarios generados artificialmente.\n"
   ]
  },
  {
   "cell_type": "code",
   "execution_count": 140,
   "metadata": {},
   "outputs": [
    {
     "data": {
      "text/plain": [
       "(Outdoor_Deaths    227123.52\n",
       " dtype: float64,\n",
       " Outdoor_ozone_Deaths    21802.05\n",
       " dtype: float64,\n",
       " Outdoor_contaminants_Deaths    205321.47\n",
       " dtype: float64)"
      ]
     },
     "execution_count": 140,
     "metadata": {},
     "output_type": "execute_result"
    }
   ],
   "source": [
    "df_11= df_9[['Outdoor_Deaths']].sum(),df_9[['Outdoor_ozone_Deaths']].sum(),df_9[['Outdoor_contaminants_Deaths']].sum()\n",
    "df_11"
   ]
  },
  {
   "cell_type": "code",
   "execution_count": 142,
   "metadata": {},
   "outputs": [
    {
     "data": {
      "image/png": "[encoded data removed]",
      "text/plain": [
       "<Figure size 432x288 with 1 Axes>"
      ]
     },
     "metadata": {},
     "output_type": "display_data"
    }
   ],
   "source": [
    "labels = 'Outdoor_Deaths', 'Outdoor_ozone_Deaths', 'Outdoor_contaminants_Deaths'\n",
    "sizes = [227123, 21802,205321]\n",
    "explode = (0, 0, 0.1)\n",
    "fig1, ax1 = plt.subplots()\n",
    "ax1.pie(sizes, explode=explode, labels=labels, autopct='%1.1f%%',\n",
    "        shadow=True, startangle=90)\n",
    "ax1.axis('equal')\n",
    "plt.show()"
   ]
  },
  {
   "cell_type": "code",
   "execution_count": null,
   "metadata": {},
   "outputs": [],
   "source": []
  }
 ],
 "metadata": {
  "kernelspec": {
   "display_name": "Python 3",
   "language": "python",
   "name": "python3"
  },
  "language_info": {
   "codemirror_mode": {
    "name": "ipython",
    "version": 3
   },
   "file_extension": ".py",
   "mimetype": "text/x-python",
   "name": "python",
   "nbconvert_exporter": "python",
   "pygments_lexer": "ipython3",
   "version": "3.8.2"
  }
 },
 "nbformat": 4,
 "nbformat_minor": 4
}
